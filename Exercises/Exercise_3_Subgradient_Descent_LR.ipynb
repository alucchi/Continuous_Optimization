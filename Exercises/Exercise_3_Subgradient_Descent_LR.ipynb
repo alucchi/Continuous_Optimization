{
  "nbformat": 4,
  "nbformat_minor": 0,
  "metadata": {
    "colab": {
      "provenance": []
    },
    "kernelspec": {
      "name": "python3",
      "display_name": "Python 3"
    },
    "language_info": {
      "name": "python"
    }
  },
  "cells": [
    {
      "cell_type": "markdown",
      "source": [
        "## Loss and Cost Functions for Logistic Regression\n",
        "Given $(\\mathbf{x}_i,y_i) \\in \\mathbb{R}^p \\times \\{0,1\\}$ for $i = 1, \\ldots, m$, the linear regression algorithm optimizes the mean squared error cost function. This cost function is convex for a linear function $z = {\\mathbf{w}^\\top}\\mathbf{x}_i + b$. In other words, if gradient converges, it will  approach the global minimum of the cost function.\n",
        "\n",
        "The logistic regression algorithm uses the sigmoid function, $\\sigma(z) = (1+e^{-z})^{-1}$, which is exponential. This function isn’t always convex with the mean squared error cost function. Thus, our logistic regression can get stuck in a local minimum. We have to randomly initialize our model and train several times to be sure that we are getting the best results.\n",
        "\n",
        "We randomly initialized our weights while building the `regularizedLR()` and because we are using a cost function that is always convex with the sigmoid function it shouldn't matter.\n",
        "\n",
        "The loss function used for training the logistic regression algorithm is called log-loss. It is given mathematically as:\n",
        "\n",
        "$$\\log(loss) = -y_i \\cdot \\log\\hat{y} - (1 – y_i) \\cdot \\log(1 - \\hat{y}),$$where $\\hat{y} = \\frac{1}{1+e^{-z}}$\n",
        "The cost function, $J(w, b)$, is just the average of the log-loss function for an epoch:\n",
        "\n",
        "$$J(w, b) = -{1 \\over m}\\sum^m_{i=1}y_i \\cdot \\log\\hat{y} + (1 - y_i) \\cdot \\log(1 - \\hat{y})$$\n",
        "\n",
        "<hr> </hr>\n",
        "\n",
        "### The Logistic Regression Module with L1 and L2 Regularization\n",
        "The logistic regression with $L_1$ and $L_2$ regularization uses the $L_1$ and $L_2$ regularization functions. This regularization is called elasticnet and is given mathematically below:\n",
        "\n",
        "$$J(\\mathbf{w}) = -{1 \\over m}\\sum^m_{i=1}y_i \\cdot \\log\\hat{y} + (1 - y_i) \\cdot \\log(1 - \\hat{y}) + {1 \\over m} \\sum_{j=1}^p(\\beta_1 \\cdot |w_i| + {1 \\over 2} \\cdot \\beta_2 \\cdot w_i^2),$$\n",
        "where the parameters $\\beta_1$ and $\\beta_2$ determine the mixing effect that $L_1$  $L_2$ regularization have on the model’s coefficients.\n",
        "\n",
        "<hr> </hr>\n",
        "\n",
        "### Subgradient\n",
        "\n",
        "The gradient of $J(\\mathbf{w})$ wrt $\\mathbf{w}$ is calculated as:\n",
        "\n",
        "$$\\nabla_{\\mathbf{w}} J = {1 \\over m}\\sum^m_{i=1}\\bigg[(\\hat{y_i} – y_i)\\mathbf{x}_i + \\sum_{j=1}^p(\\beta_1 \\cdot sign(w_i) + {1 \\over 2} \\cdot \\beta_2 \\cdot w_i)\\bigg],$$where it is important to note that since $||\\mathbf{w}||_1$ is non-differentiable, we are instead using its subgradient,  which has coordinate-wise expression given as follows:\n",
        "\n",
        "$$\\stackrel{sub}{\\nabla_i} ||\\mathbf{w}||_1 = \\begin{cases} sign(w_i) \\quad &\\text{ if } w_i \\neq 0 \\\\ [-1,1] \\quad  &\\text{ if } w_i = 0. \\end{cases}$$"
      ],
      "metadata": {
        "id": "tqIdYrCmt-Xp"
      }
    },
    {
      "cell_type": "code",
      "execution_count": null,
      "metadata": {
        "id": "riaOnyiQi5OZ"
      },
      "outputs": [],
      "source": [
        "\"\"\"\n",
        "    This is logistic regression module\n",
        "    To use:\n",
        "        # Import the regularizedLR class from the module and use its methods\n",
        "        log_reg = regularizedLR()      # Initialization with default params\n",
        "        log_reg.fit(X, y)    # Fit with train set\n",
        "        log_reg.predict(X)   # Make predictions with test set\n",
        "        log_reg.score(X,y)   # Get accuracy score\n",
        "\n",
        "    Method:\n",
        "        __init__\n",
        "        __repr__\n",
        "        sigmoid\n",
        "        predict\n",
        "        predict_proba\n",
        "        fit\n",
        "        score\n",
        "\"\"\"\n",
        "\n",
        "# Define placeholders for stroing iterates, loss function and its gradient values\n",
        "iterates = []\n",
        "losses = []\n",
        "gradients = []\n",
        "\n",
        "import numpy as np\n",
        "from sklearn.metrics import accuracy_score\n",
        "\n",
        "class regularizedLR(object):\n",
        "    \"\"\"\n",
        "    This is the regularizedLR class and by default implements Logistic regression with Lassso penalty (i.e., beta_1 = 1 and beta_2 = 0)\n",
        "    \"\"\"\n",
        "\n",
        "    def __init__(self, learning_rate=10e-3, n_epochs=10000, cutoff=0.5, beta_1 = 1, beta_2 = 0):\n",
        "        \"\"\"\n",
        "        The __init__ method\n",
        "        Params:\n",
        "            learning_rate\n",
        "            n_epochs\n",
        "            cutoff\n",
        "            beta_1\n",
        "            beta_2\n",
        "        \"\"\"\n",
        "        self.learning_rate = learning_rate\n",
        "        self.n_epochs = n_epochs\n",
        "        self.cutoff = cutoff\n",
        "        self.beta_1 = beta_1\n",
        "        self.beta_2 = beta_2\n",
        "\n",
        "    def __repr__(self):\n",
        "        params = {\n",
        "            'learning_rate': self.learning_rate,\n",
        "            'n_epochs': self.n_epochs,\n",
        "            'cutoff': self.cutoff,\n",
        "            'beta_1': self.beta_1,\n",
        "            'beta_2': self.beta_2\n",
        "        }\n",
        "        return \"regularizedLR({0}={5}, {1}={6}, {2}={7}, {3}={8}, {4}={9})\".format(*params.keys(), *params.values())\n",
        "\n",
        "    @staticmethod\n",
        "    def reshape(A):\n",
        "      A = np.block([np.ones((A.shape[0], 1)), A])\n",
        "      return A\n",
        "\n",
        "    # regularized logistic loss function\n",
        "    def J(self, y, yhat, m, w, beta_1, beta_2):\n",
        "      self.m = y.shape[0]\n",
        "      return (-1*(y * np.log(yhat) + (1 - y) * np.log(1 - yhat)).mean()    #average logistic loss\n",
        "                    + beta_1/m * np.linalg.norm(w, ord=1)                  # l1-penalty\n",
        "                    + beta_2/(2*m)*np.linalg.norm(w, ord=2)                # l2-penalty\n",
        "            )\n",
        "\n",
        "\n",
        "    def sigmoid(self, z):\n",
        "        \"\"\"\n",
        "        The sigmoid method:\n",
        "        Param:\n",
        "            z\n",
        "        Return:\n",
        "            1.0 / (1.0 + exp(-z))\n",
        "        \"\"\"\n",
        "        return 1.0 / (1.0 + np.exp(-z))\n",
        "\n",
        "\n",
        "    def predict_proba(self, X):\n",
        "        \"\"\"\n",
        "        The predict_proba\n",
        "        Param:\n",
        "            row\n",
        "        Return:\n",
        "            sigmoid(z)\n",
        "        \"\"\"\n",
        "        z = X@self.w\n",
        "        return self.sigmoid(z)\n",
        "\n",
        "\n",
        "    def predict(self, X):\n",
        "        if not isinstance(X, np.ndarray):\n",
        "            X = X.to_numpy()\n",
        "\n",
        "        X = regularizedLR.reshape(X)\n",
        "\n",
        "        self.predict_probas = []\n",
        "        ypred = self.predict_proba(X)\n",
        "        self.predict_probas = ypred\n",
        "\n",
        "        return (np.array(self.predict_probas) >= self.cutoff) * 1.0\n",
        "\n",
        "\n",
        "    def score(self, X, y):\n",
        "        \"\"\"\n",
        "        The score method\n",
        "        Param\n",
        "            X, y\n",
        "        Return\n",
        "            accuracy_score(y, ypred)\n",
        "        \"\"\"\n",
        "        ypred = self.predict(X)\n",
        "        y = y.to_numpy()\n",
        "        return accuracy_score(y, ypred)\n",
        "\n",
        "\n",
        "    def fit(self, X, y):\n",
        "        \"\"\"\n",
        "        The fit method implements sub-gradient descent\n",
        "        Param\n",
        "            X, y\n",
        "        Return\n",
        "            None\n",
        "        \"\"\"\n",
        "        if not isinstance(X, np.ndarray):\n",
        "            X = X.to_numpy()\n",
        "\n",
        "        if not isinstance(y, np.ndarray):\n",
        "            y = y.to_numpy()\n",
        "\n",
        "        #reshaping X to fit all one vactor at the end for the bias term\n",
        "        X = regularizedLR.reshape(X)\n",
        "        # the extra dimension for bias is already added to w from the extra dimesnion in X\n",
        "\n",
        "        # initialize the vector, feel free to play with initialization\n",
        "        np.random.seed(47)\n",
        "        self.w = np.random.normal(size=(X.shape[1], ))\n",
        "\n",
        "        self.m = X.shape[0]\n",
        "\n",
        "        for n_epoch in range(1, self.n_epochs + 1):\n",
        "\n",
        "            # TODO: get predictions\n",
        "            '''\n",
        "            yhat = ...\n",
        "            '''\n",
        "\n",
        "            # TODO: calculate the subgradient of the regularized loss\n",
        "            '''\n",
        "            grad_w =  ( ...              # gradient of Logistic Loss\n",
        "                      + ...              # subgradient of l1-penalty\n",
        "                      + ...              # gradient of l2-penalty\n",
        "            )\n",
        "            gradients.append(grad_w)\n",
        "            '''\n",
        "\n",
        "            # TODO: write subgradient descent update rule\n",
        "            '''\n",
        "            self.w -= ...\n",
        "            '''\n",
        "            iterates.append(self.w)\n",
        "\n",
        "            # TODO: get the loss by using the appropriate function defined above\n",
        "            '''\n",
        "            loss = ...\n",
        "            '''\n",
        "            losses.append(loss)"
      ]
    },
    {
      "cell_type": "markdown",
      "source": [
        "# Working with the `regularizedLR` Module"
      ],
      "metadata": {
        "id": "ZOHbT9Avj2k4"
      }
    },
    {
      "cell_type": "code",
      "source": [
        "lr = regularizedLR()"
      ],
      "metadata": {
        "id": "Gz5c4gqzjUOs"
      },
      "execution_count": null,
      "outputs": []
    },
    {
      "cell_type": "markdown",
      "source": [
        " * Let’s also view the docstrings in the sigmoid and fit methods:"
      ],
      "metadata": {
        "id": "eEAX7neJjwPr"
      }
    },
    {
      "cell_type": "code",
      "source": [
        "print(lr.__doc__)\n",
        "print(regularizedLR.sigmoid.__doc__)\n",
        "print(regularizedLR.fit.__doc__)"
      ],
      "metadata": {
        "colab": {
          "base_uri": "https://localhost:8080/"
        },
        "id": "fOEVQ3NgjeZw",
        "outputId": "d2109344-39de-4346-e6a9-ace06a65709e"
      },
      "execution_count": null,
      "outputs": [
        {
          "output_type": "stream",
          "name": "stdout",
          "text": [
            "\n",
            "    This is the regularizedLR class and by default implements Logistic regression with Lassso penalty (i.e., beta_1 = 1 and beta_2 = 0)\n",
            "    \n",
            "\n",
            "        The sigmoid method:\n",
            "        Param:\n",
            "            z\n",
            "        Return:\n",
            "            1.0 / (1.0 + exp(-z))\n",
            "        \n",
            "\n",
            "        The fit method implements sub-gradient descent\n",
            "        Param\n",
            "            X, y\n",
            "        Return\n",
            "            None\n",
            "        \n"
          ]
        }
      ]
    },
    {
      "cell_type": "markdown",
      "source": [
        "* Alternatively, you can view all the docstrings with the help() function:"
      ],
      "metadata": {
        "id": "jTX0XekBj7Bx"
      }
    },
    {
      "cell_type": "code",
      "source": [
        "help(regularizedLR)"
      ],
      "metadata": {
        "colab": {
          "base_uri": "https://localhost:8080/"
        },
        "id": "9KDXFPSEjj4Q",
        "outputId": "f4017a61-2c7f-4ccc-8f00-e7d0d07b1490"
      },
      "execution_count": null,
      "outputs": [
        {
          "output_type": "stream",
          "name": "stdout",
          "text": [
            "Help on class regularizedLR in module __main__:\n",
            "\n",
            "class regularizedLR(builtins.object)\n",
            " |  regularizedLR(learning_rate=0.01, n_epochs=10000, cutoff=0.5, beta_1=1, beta_2=0)\n",
            " |  \n",
            " |  This is the regularizedLR class and by default implements Logistic regression with Lassso penalty (i.e., beta_1 = 1 and beta_2 = 0)\n",
            " |  \n",
            " |  Methods defined here:\n",
            " |  \n",
            " |  J(self, y, yhat, m, w, beta_1, beta_2)\n",
            " |      # regularized logistic loss function\n",
            " |  \n",
            " |  __init__(self, learning_rate=0.01, n_epochs=10000, cutoff=0.5, beta_1=1, beta_2=0)\n",
            " |      The __init__ method\n",
            " |      Params:\n",
            " |          learning_rate\n",
            " |          n_epochs\n",
            " |          cutoff\n",
            " |          beta_1\n",
            " |          beta_2\n",
            " |  \n",
            " |  __repr__(self)\n",
            " |      Return repr(self).\n",
            " |  \n",
            " |  fit(self, X, y)\n",
            " |      The fit method implements sub-gradient descent\n",
            " |      Param\n",
            " |          X, y\n",
            " |      Return\n",
            " |          None\n",
            " |  \n",
            " |  predict(self, X)\n",
            " |  \n",
            " |  predict_proba(self, X)\n",
            " |      The predict_proba\n",
            " |      Param:\n",
            " |          row\n",
            " |      Return:\n",
            " |          sigmoid(z)\n",
            " |  \n",
            " |  score(self, X, y)\n",
            " |      The score method\n",
            " |      Param\n",
            " |          X, y\n",
            " |      Return\n",
            " |          accuracy_score(y, ypred)\n",
            " |  \n",
            " |  sigmoid(self, z)\n",
            " |      The sigmoid method:\n",
            " |      Param:\n",
            " |          z\n",
            " |      Return:\n",
            " |          1.0 / (1.0 + exp(-z))\n",
            " |  \n",
            " |  ----------------------------------------------------------------------\n",
            " |  Static methods defined here:\n",
            " |  \n",
            " |  reshape(A)\n",
            " |  \n",
            " |  ----------------------------------------------------------------------\n",
            " |  Data descriptors defined here:\n",
            " |  \n",
            " |  __dict__\n",
            " |      dictionary for instance variables (if defined)\n",
            " |  \n",
            " |  __weakref__\n",
            " |      list of weak references to the object (if defined)\n",
            "\n"
          ]
        }
      ]
    },
    {
      "cell_type": "code",
      "source": [
        "import numpy as np\n",
        "import pandas as pd\n",
        "import matplotlib.pyplot as plt\n",
        "from sklearn.pipeline import Pipeline\n",
        "from sklearn.datasets import load_breast_cancer\n",
        "from sklearn.metrics import classification_report\n",
        "from sklearn.model_selection import train_test_split\n",
        "from sklearn.preprocessing import StandardScaler\n",
        "\n",
        "import warnings\n",
        "warnings.filterwarnings('ignore')"
      ],
      "metadata": {
        "id": "lZK3ykDcj-Q-"
      },
      "execution_count": null,
      "outputs": []
    },
    {
      "cell_type": "markdown",
      "source": [
        "#### Load and Split Data"
      ],
      "metadata": {
        "id": "grFQMgCIkKLS"
      }
    },
    {
      "cell_type": "code",
      "source": [
        "bin_data = load_breast_cancer()\n",
        "X = bin_data.data\n",
        "y = bin_data.target"
      ],
      "metadata": {
        "id": "7I5KICdDkHKq"
      },
      "execution_count": null,
      "outputs": []
    },
    {
      "cell_type": "markdown",
      "source": [
        "#### Store data as pandas objects"
      ],
      "metadata": {
        "id": "oWvuU8YVkJcK"
      }
    },
    {
      "cell_type": "code",
      "source": [
        "X = pd.DataFrame(X, columns=bin_data.feature_names)\n",
        "y = pd.Series(y, name='diagnosis', dtype=np.int8)\n",
        "\n",
        "pd.options.display.max_columns = X.shape[1]\n",
        "X.head()"
      ],
      "metadata": {
        "colab": {
          "base_uri": "https://localhost:8080/",
          "height": 261
        },
        "id": "KU0UPOFQkQzU",
        "outputId": "3d592b0c-40bb-4d8f-8a04-660138aced43"
      },
      "execution_count": null,
      "outputs": [
        {
          "output_type": "execute_result",
          "data": {
            "text/plain": [
              "   mean radius  mean texture  mean perimeter  mean area  mean smoothness  \\\n",
              "0        17.99         10.38          122.80     1001.0          0.11840   \n",
              "1        20.57         17.77          132.90     1326.0          0.08474   \n",
              "2        19.69         21.25          130.00     1203.0          0.10960   \n",
              "3        11.42         20.38           77.58      386.1          0.14250   \n",
              "4        20.29         14.34          135.10     1297.0          0.10030   \n",
              "\n",
              "   mean compactness  mean concavity  mean concave points  mean symmetry  \\\n",
              "0           0.27760          0.3001              0.14710         0.2419   \n",
              "1           0.07864          0.0869              0.07017         0.1812   \n",
              "2           0.15990          0.1974              0.12790         0.2069   \n",
              "3           0.28390          0.2414              0.10520         0.2597   \n",
              "4           0.13280          0.1980              0.10430         0.1809   \n",
              "\n",
              "   mean fractal dimension  radius error  texture error  perimeter error  \\\n",
              "0                 0.07871        1.0950         0.9053            8.589   \n",
              "1                 0.05667        0.5435         0.7339            3.398   \n",
              "2                 0.05999        0.7456         0.7869            4.585   \n",
              "3                 0.09744        0.4956         1.1560            3.445   \n",
              "4                 0.05883        0.7572         0.7813            5.438   \n",
              "\n",
              "   area error  smoothness error  compactness error  concavity error  \\\n",
              "0      153.40          0.006399            0.04904          0.05373   \n",
              "1       74.08          0.005225            0.01308          0.01860   \n",
              "2       94.03          0.006150            0.04006          0.03832   \n",
              "3       27.23          0.009110            0.07458          0.05661   \n",
              "4       94.44          0.011490            0.02461          0.05688   \n",
              "\n",
              "   concave points error  symmetry error  fractal dimension error  \\\n",
              "0               0.01587         0.03003                 0.006193   \n",
              "1               0.01340         0.01389                 0.003532   \n",
              "2               0.02058         0.02250                 0.004571   \n",
              "3               0.01867         0.05963                 0.009208   \n",
              "4               0.01885         0.01756                 0.005115   \n",
              "\n",
              "   worst radius  worst texture  worst perimeter  worst area  worst smoothness  \\\n",
              "0         25.38          17.33           184.60      2019.0            0.1622   \n",
              "1         24.99          23.41           158.80      1956.0            0.1238   \n",
              "2         23.57          25.53           152.50      1709.0            0.1444   \n",
              "3         14.91          26.50            98.87       567.7            0.2098   \n",
              "4         22.54          16.67           152.20      1575.0            0.1374   \n",
              "\n",
              "   worst compactness  worst concavity  worst concave points  worst symmetry  \\\n",
              "0             0.6656           0.7119                0.2654          0.4601   \n",
              "1             0.1866           0.2416                0.1860          0.2750   \n",
              "2             0.4245           0.4504                0.2430          0.3613   \n",
              "3             0.8663           0.6869                0.2575          0.6638   \n",
              "4             0.2050           0.4000                0.1625          0.2364   \n",
              "\n",
              "   worst fractal dimension  \n",
              "0                  0.11890  \n",
              "1                  0.08902  \n",
              "2                  0.08758  \n",
              "3                  0.17300  \n",
              "4                  0.07678  "
            ],
            "text/html": [
              "\n",
              "  <div id=\"df-7ce6138b-e0cf-40c1-8a8f-5e19d11c349c\" class=\"colab-df-container\">\n",
              "    <div>\n",
              "<style scoped>\n",
              "    .dataframe tbody tr th:only-of-type {\n",
              "        vertical-align: middle;\n",
              "    }\n",
              "\n",
              "    .dataframe tbody tr th {\n",
              "        vertical-align: top;\n",
              "    }\n",
              "\n",
              "    .dataframe thead th {\n",
              "        text-align: right;\n",
              "    }\n",
              "</style>\n",
              "<table border=\"1\" class=\"dataframe\">\n",
              "  <thead>\n",
              "    <tr style=\"text-align: right;\">\n",
              "      <th></th>\n",
              "      <th>mean radius</th>\n",
              "      <th>mean texture</th>\n",
              "      <th>mean perimeter</th>\n",
              "      <th>mean area</th>\n",
              "      <th>mean smoothness</th>\n",
              "      <th>mean compactness</th>\n",
              "      <th>mean concavity</th>\n",
              "      <th>mean concave points</th>\n",
              "      <th>mean symmetry</th>\n",
              "      <th>mean fractal dimension</th>\n",
              "      <th>radius error</th>\n",
              "      <th>texture error</th>\n",
              "      <th>perimeter error</th>\n",
              "      <th>area error</th>\n",
              "      <th>smoothness error</th>\n",
              "      <th>compactness error</th>\n",
              "      <th>concavity error</th>\n",
              "      <th>concave points error</th>\n",
              "      <th>symmetry error</th>\n",
              "      <th>fractal dimension error</th>\n",
              "      <th>worst radius</th>\n",
              "      <th>worst texture</th>\n",
              "      <th>worst perimeter</th>\n",
              "      <th>worst area</th>\n",
              "      <th>worst smoothness</th>\n",
              "      <th>worst compactness</th>\n",
              "      <th>worst concavity</th>\n",
              "      <th>worst concave points</th>\n",
              "      <th>worst symmetry</th>\n",
              "      <th>worst fractal dimension</th>\n",
              "    </tr>\n",
              "  </thead>\n",
              "  <tbody>\n",
              "    <tr>\n",
              "      <th>0</th>\n",
              "      <td>17.99</td>\n",
              "      <td>10.38</td>\n",
              "      <td>122.80</td>\n",
              "      <td>1001.0</td>\n",
              "      <td>0.11840</td>\n",
              "      <td>0.27760</td>\n",
              "      <td>0.3001</td>\n",
              "      <td>0.14710</td>\n",
              "      <td>0.2419</td>\n",
              "      <td>0.07871</td>\n",
              "      <td>1.0950</td>\n",
              "      <td>0.9053</td>\n",
              "      <td>8.589</td>\n",
              "      <td>153.40</td>\n",
              "      <td>0.006399</td>\n",
              "      <td>0.04904</td>\n",
              "      <td>0.05373</td>\n",
              "      <td>0.01587</td>\n",
              "      <td>0.03003</td>\n",
              "      <td>0.006193</td>\n",
              "      <td>25.38</td>\n",
              "      <td>17.33</td>\n",
              "      <td>184.60</td>\n",
              "      <td>2019.0</td>\n",
              "      <td>0.1622</td>\n",
              "      <td>0.6656</td>\n",
              "      <td>0.7119</td>\n",
              "      <td>0.2654</td>\n",
              "      <td>0.4601</td>\n",
              "      <td>0.11890</td>\n",
              "    </tr>\n",
              "    <tr>\n",
              "      <th>1</th>\n",
              "      <td>20.57</td>\n",
              "      <td>17.77</td>\n",
              "      <td>132.90</td>\n",
              "      <td>1326.0</td>\n",
              "      <td>0.08474</td>\n",
              "      <td>0.07864</td>\n",
              "      <td>0.0869</td>\n",
              "      <td>0.07017</td>\n",
              "      <td>0.1812</td>\n",
              "      <td>0.05667</td>\n",
              "      <td>0.5435</td>\n",
              "      <td>0.7339</td>\n",
              "      <td>3.398</td>\n",
              "      <td>74.08</td>\n",
              "      <td>0.005225</td>\n",
              "      <td>0.01308</td>\n",
              "      <td>0.01860</td>\n",
              "      <td>0.01340</td>\n",
              "      <td>0.01389</td>\n",
              "      <td>0.003532</td>\n",
              "      <td>24.99</td>\n",
              "      <td>23.41</td>\n",
              "      <td>158.80</td>\n",
              "      <td>1956.0</td>\n",
              "      <td>0.1238</td>\n",
              "      <td>0.1866</td>\n",
              "      <td>0.2416</td>\n",
              "      <td>0.1860</td>\n",
              "      <td>0.2750</td>\n",
              "      <td>0.08902</td>\n",
              "    </tr>\n",
              "    <tr>\n",
              "      <th>2</th>\n",
              "      <td>19.69</td>\n",
              "      <td>21.25</td>\n",
              "      <td>130.00</td>\n",
              "      <td>1203.0</td>\n",
              "      <td>0.10960</td>\n",
              "      <td>0.15990</td>\n",
              "      <td>0.1974</td>\n",
              "      <td>0.12790</td>\n",
              "      <td>0.2069</td>\n",
              "      <td>0.05999</td>\n",
              "      <td>0.7456</td>\n",
              "      <td>0.7869</td>\n",
              "      <td>4.585</td>\n",
              "      <td>94.03</td>\n",
              "      <td>0.006150</td>\n",
              "      <td>0.04006</td>\n",
              "      <td>0.03832</td>\n",
              "      <td>0.02058</td>\n",
              "      <td>0.02250</td>\n",
              "      <td>0.004571</td>\n",
              "      <td>23.57</td>\n",
              "      <td>25.53</td>\n",
              "      <td>152.50</td>\n",
              "      <td>1709.0</td>\n",
              "      <td>0.1444</td>\n",
              "      <td>0.4245</td>\n",
              "      <td>0.4504</td>\n",
              "      <td>0.2430</td>\n",
              "      <td>0.3613</td>\n",
              "      <td>0.08758</td>\n",
              "    </tr>\n",
              "    <tr>\n",
              "      <th>3</th>\n",
              "      <td>11.42</td>\n",
              "      <td>20.38</td>\n",
              "      <td>77.58</td>\n",
              "      <td>386.1</td>\n",
              "      <td>0.14250</td>\n",
              "      <td>0.28390</td>\n",
              "      <td>0.2414</td>\n",
              "      <td>0.10520</td>\n",
              "      <td>0.2597</td>\n",
              "      <td>0.09744</td>\n",
              "      <td>0.4956</td>\n",
              "      <td>1.1560</td>\n",
              "      <td>3.445</td>\n",
              "      <td>27.23</td>\n",
              "      <td>0.009110</td>\n",
              "      <td>0.07458</td>\n",
              "      <td>0.05661</td>\n",
              "      <td>0.01867</td>\n",
              "      <td>0.05963</td>\n",
              "      <td>0.009208</td>\n",
              "      <td>14.91</td>\n",
              "      <td>26.50</td>\n",
              "      <td>98.87</td>\n",
              "      <td>567.7</td>\n",
              "      <td>0.2098</td>\n",
              "      <td>0.8663</td>\n",
              "      <td>0.6869</td>\n",
              "      <td>0.2575</td>\n",
              "      <td>0.6638</td>\n",
              "      <td>0.17300</td>\n",
              "    </tr>\n",
              "    <tr>\n",
              "      <th>4</th>\n",
              "      <td>20.29</td>\n",
              "      <td>14.34</td>\n",
              "      <td>135.10</td>\n",
              "      <td>1297.0</td>\n",
              "      <td>0.10030</td>\n",
              "      <td>0.13280</td>\n",
              "      <td>0.1980</td>\n",
              "      <td>0.10430</td>\n",
              "      <td>0.1809</td>\n",
              "      <td>0.05883</td>\n",
              "      <td>0.7572</td>\n",
              "      <td>0.7813</td>\n",
              "      <td>5.438</td>\n",
              "      <td>94.44</td>\n",
              "      <td>0.011490</td>\n",
              "      <td>0.02461</td>\n",
              "      <td>0.05688</td>\n",
              "      <td>0.01885</td>\n",
              "      <td>0.01756</td>\n",
              "      <td>0.005115</td>\n",
              "      <td>22.54</td>\n",
              "      <td>16.67</td>\n",
              "      <td>152.20</td>\n",
              "      <td>1575.0</td>\n",
              "      <td>0.1374</td>\n",
              "      <td>0.2050</td>\n",
              "      <td>0.4000</td>\n",
              "      <td>0.1625</td>\n",
              "      <td>0.2364</td>\n",
              "      <td>0.07678</td>\n",
              "    </tr>\n",
              "  </tbody>\n",
              "</table>\n",
              "</div>\n",
              "    <div class=\"colab-df-buttons\">\n",
              "\n",
              "  <div class=\"colab-df-container\">\n",
              "    <button class=\"colab-df-convert\" onclick=\"convertToInteractive('df-7ce6138b-e0cf-40c1-8a8f-5e19d11c349c')\"\n",
              "            title=\"Convert this dataframe to an interactive table.\"\n",
              "            style=\"display:none;\">\n",
              "\n",
              "  <svg xmlns=\"http://www.w3.org/2000/svg\" height=\"24px\" viewBox=\"0 -960 960 960\">\n",
              "    <path d=\"M120-120v-720h720v720H120Zm60-500h600v-160H180v160Zm220 220h160v-160H400v160Zm0 220h160v-160H400v160ZM180-400h160v-160H180v160Zm440 0h160v-160H620v160ZM180-180h160v-160H180v160Zm440 0h160v-160H620v160Z\"/>\n",
              "  </svg>\n",
              "    </button>\n",
              "\n",
              "  <style>\n",
              "    .colab-df-container {\n",
              "      display:flex;\n",
              "      gap: 12px;\n",
              "    }\n",
              "\n",
              "    .colab-df-convert {\n",
              "      background-color: #E8F0FE;\n",
              "      border: none;\n",
              "      border-radius: 50%;\n",
              "      cursor: pointer;\n",
              "      display: none;\n",
              "      fill: #1967D2;\n",
              "      height: 32px;\n",
              "      padding: 0 0 0 0;\n",
              "      width: 32px;\n",
              "    }\n",
              "\n",
              "    .colab-df-convert:hover {\n",
              "      background-color: #E2EBFA;\n",
              "      box-shadow: 0px 1px 2px rgba(60, 64, 67, 0.3), 0px 1px 3px 1px rgba(60, 64, 67, 0.15);\n",
              "      fill: #174EA6;\n",
              "    }\n",
              "\n",
              "    .colab-df-buttons div {\n",
              "      margin-bottom: 4px;\n",
              "    }\n",
              "\n",
              "    [theme=dark] .colab-df-convert {\n",
              "      background-color: #3B4455;\n",
              "      fill: #D2E3FC;\n",
              "    }\n",
              "\n",
              "    [theme=dark] .colab-df-convert:hover {\n",
              "      background-color: #434B5C;\n",
              "      box-shadow: 0px 1px 3px 1px rgba(0, 0, 0, 0.15);\n",
              "      filter: drop-shadow(0px 1px 2px rgba(0, 0, 0, 0.3));\n",
              "      fill: #FFFFFF;\n",
              "    }\n",
              "  </style>\n",
              "\n",
              "    <script>\n",
              "      const buttonEl =\n",
              "        document.querySelector('#df-7ce6138b-e0cf-40c1-8a8f-5e19d11c349c button.colab-df-convert');\n",
              "      buttonEl.style.display =\n",
              "        google.colab.kernel.accessAllowed ? 'block' : 'none';\n",
              "\n",
              "      async function convertToInteractive(key) {\n",
              "        const element = document.querySelector('#df-7ce6138b-e0cf-40c1-8a8f-5e19d11c349c');\n",
              "        const dataTable =\n",
              "          await google.colab.kernel.invokeFunction('convertToInteractive',\n",
              "                                                    [key], {});\n",
              "        if (!dataTable) return;\n",
              "\n",
              "        const docLinkHtml = 'Like what you see? Visit the ' +\n",
              "          '<a target=\"_blank\" href=https://colab.research.google.com/notebooks/data_table.ipynb>data table notebook</a>'\n",
              "          + ' to learn more about interactive tables.';\n",
              "        element.innerHTML = '';\n",
              "        dataTable['output_type'] = 'display_data';\n",
              "        await google.colab.output.renderOutput(dataTable, element);\n",
              "        const docLink = document.createElement('div');\n",
              "        docLink.innerHTML = docLinkHtml;\n",
              "        element.appendChild(docLink);\n",
              "      }\n",
              "    </script>\n",
              "  </div>\n",
              "\n",
              "\n",
              "<div id=\"df-aaad11f2-daea-4463-8b59-2b93984b18e4\">\n",
              "  <button class=\"colab-df-quickchart\" onclick=\"quickchart('df-aaad11f2-daea-4463-8b59-2b93984b18e4')\"\n",
              "            title=\"Suggest charts\"\n",
              "            style=\"display:none;\">\n",
              "\n",
              "<svg xmlns=\"http://www.w3.org/2000/svg\" height=\"24px\"viewBox=\"0 0 24 24\"\n",
              "     width=\"24px\">\n",
              "    <g>\n",
              "        <path d=\"M19 3H5c-1.1 0-2 .9-2 2v14c0 1.1.9 2 2 2h14c1.1 0 2-.9 2-2V5c0-1.1-.9-2-2-2zM9 17H7v-7h2v7zm4 0h-2V7h2v10zm4 0h-2v-4h2v4z\"/>\n",
              "    </g>\n",
              "</svg>\n",
              "  </button>\n",
              "\n",
              "<style>\n",
              "  .colab-df-quickchart {\n",
              "      --bg-color: #E8F0FE;\n",
              "      --fill-color: #1967D2;\n",
              "      --hover-bg-color: #E2EBFA;\n",
              "      --hover-fill-color: #174EA6;\n",
              "      --disabled-fill-color: #AAA;\n",
              "      --disabled-bg-color: #DDD;\n",
              "  }\n",
              "\n",
              "  [theme=dark] .colab-df-quickchart {\n",
              "      --bg-color: #3B4455;\n",
              "      --fill-color: #D2E3FC;\n",
              "      --hover-bg-color: #434B5C;\n",
              "      --hover-fill-color: #FFFFFF;\n",
              "      --disabled-bg-color: #3B4455;\n",
              "      --disabled-fill-color: #666;\n",
              "  }\n",
              "\n",
              "  .colab-df-quickchart {\n",
              "    background-color: var(--bg-color);\n",
              "    border: none;\n",
              "    border-radius: 50%;\n",
              "    cursor: pointer;\n",
              "    display: none;\n",
              "    fill: var(--fill-color);\n",
              "    height: 32px;\n",
              "    padding: 0;\n",
              "    width: 32px;\n",
              "  }\n",
              "\n",
              "  .colab-df-quickchart:hover {\n",
              "    background-color: var(--hover-bg-color);\n",
              "    box-shadow: 0 1px 2px rgba(60, 64, 67, 0.3), 0 1px 3px 1px rgba(60, 64, 67, 0.15);\n",
              "    fill: var(--button-hover-fill-color);\n",
              "  }\n",
              "\n",
              "  .colab-df-quickchart-complete:disabled,\n",
              "  .colab-df-quickchart-complete:disabled:hover {\n",
              "    background-color: var(--disabled-bg-color);\n",
              "    fill: var(--disabled-fill-color);\n",
              "    box-shadow: none;\n",
              "  }\n",
              "\n",
              "  .colab-df-spinner {\n",
              "    border: 2px solid var(--fill-color);\n",
              "    border-color: transparent;\n",
              "    border-bottom-color: var(--fill-color);\n",
              "    animation:\n",
              "      spin 1s steps(1) infinite;\n",
              "  }\n",
              "\n",
              "  @keyframes spin {\n",
              "    0% {\n",
              "      border-color: transparent;\n",
              "      border-bottom-color: var(--fill-color);\n",
              "      border-left-color: var(--fill-color);\n",
              "    }\n",
              "    20% {\n",
              "      border-color: transparent;\n",
              "      border-left-color: var(--fill-color);\n",
              "      border-top-color: var(--fill-color);\n",
              "    }\n",
              "    30% {\n",
              "      border-color: transparent;\n",
              "      border-left-color: var(--fill-color);\n",
              "      border-top-color: var(--fill-color);\n",
              "      border-right-color: var(--fill-color);\n",
              "    }\n",
              "    40% {\n",
              "      border-color: transparent;\n",
              "      border-right-color: var(--fill-color);\n",
              "      border-top-color: var(--fill-color);\n",
              "    }\n",
              "    60% {\n",
              "      border-color: transparent;\n",
              "      border-right-color: var(--fill-color);\n",
              "    }\n",
              "    80% {\n",
              "      border-color: transparent;\n",
              "      border-right-color: var(--fill-color);\n",
              "      border-bottom-color: var(--fill-color);\n",
              "    }\n",
              "    90% {\n",
              "      border-color: transparent;\n",
              "      border-bottom-color: var(--fill-color);\n",
              "    }\n",
              "  }\n",
              "</style>\n",
              "\n",
              "  <script>\n",
              "    async function quickchart(key) {\n",
              "      const quickchartButtonEl =\n",
              "        document.querySelector('#' + key + ' button');\n",
              "      quickchartButtonEl.disabled = true;  // To prevent multiple clicks.\n",
              "      quickchartButtonEl.classList.add('colab-df-spinner');\n",
              "      try {\n",
              "        const charts = await google.colab.kernel.invokeFunction(\n",
              "            'suggestCharts', [key], {});\n",
              "      } catch (error) {\n",
              "        console.error('Error during call to suggestCharts:', error);\n",
              "      }\n",
              "      quickchartButtonEl.classList.remove('colab-df-spinner');\n",
              "      quickchartButtonEl.classList.add('colab-df-quickchart-complete');\n",
              "    }\n",
              "    (() => {\n",
              "      let quickchartButtonEl =\n",
              "        document.querySelector('#df-aaad11f2-daea-4463-8b59-2b93984b18e4 button');\n",
              "      quickchartButtonEl.style.display =\n",
              "        google.colab.kernel.accessAllowed ? 'block' : 'none';\n",
              "    })();\n",
              "  </script>\n",
              "</div>\n",
              "    </div>\n",
              "  </div>\n"
            ]
          },
          "metadata": {},
          "execution_count": 7
        }
      ]
    },
    {
      "cell_type": "markdown",
      "source": [
        "#### The target has two classes – binary classification task\n"
      ],
      "metadata": {
        "id": "gFZ3uuQHkVMx"
      }
    },
    {
      "cell_type": "code",
      "source": [
        "y.value_counts()"
      ],
      "metadata": {
        "colab": {
          "base_uri": "https://localhost:8080/"
        },
        "id": "zCShvoPnkSbd",
        "outputId": "de82db87-6ff0-4e36-b29d-c25fc528b37b"
      },
      "execution_count": null,
      "outputs": [
        {
          "output_type": "execute_result",
          "data": {
            "text/plain": [
              "1    357\n",
              "0    212\n",
              "Name: diagnosis, dtype: int64"
            ]
          },
          "metadata": {},
          "execution_count": 8
        }
      ]
    },
    {
      "cell_type": "code",
      "source": [
        "X_train, X_test, y_train, y_test = train_test_split(X, y, train_size=0.75, random_state=47)"
      ],
      "metadata": {
        "id": "8XUvdaG1kYZj"
      },
      "execution_count": null,
      "outputs": []
    },
    {
      "cell_type": "markdown",
      "source": [],
      "metadata": {
        "id": "TUuZbKKUkrxz"
      }
    },
    {
      "cell_type": "markdown",
      "source": [
        "## Cost Function and Learning Rate\n",
        "The learning rate is an important parameter in our regularizedLR model. Here, we created five instances of the regularizedLR class with different learning rates. When the learning rate was very small, the cost function, Cost $(J)$, was a straight horizontal line.\n",
        "\n",
        "As we increase the learning rate from ${10^{-4}}$ to $10^{-0}$, we get the first half of a U-shaped curve. The larger the learning rate, the faster the cost function approaches the global minimum."
      ],
      "metadata": {
        "id": "ankOk2IBlo4-"
      }
    },
    {
      "cell_type": "code",
      "source": [
        "def visualize(X, y, iterates, w_star, loss, lr, beta_1=1, beta_2=0):\n",
        "\n",
        "  fig, ax = plt.subplots(2, 2,figsize = (15, 10))\n",
        "\n",
        "  #  For Loss Converegnce wrt to epochs\n",
        "  # --------------------------------------------------------------------------------------------\n",
        "  ax[0][0].plot(np.array(loss), '--bo', mfc='r', mec='none', markersize=5)\n",
        "  ax[0][0].set_title('Loss vs #epochs')\n",
        "  ax[0][0].set_xlabel(\"No. of epochs (e)\")\n",
        "  ax[0][0].set_ylabel(r\"$\\log \\: J$ (log-scale)\")\n",
        "  ax[0][0].set_yscale('log')\n",
        "  ax[0][0].grid()\n",
        "\n",
        "\n",
        "  #  For Loss(w) - Loss(w_star) converegnce wrt epochs\n",
        "  m = X.shape[0]\n",
        "  yhat = lr.sigmoid(lr.reshape(X)@w_star)\n",
        "  loss_star = lr.J(y, yhat, m, w_star, beta_1, beta_2)\n",
        "  # --------------------------------------------------------------------------------------------\n",
        "  ax[0][1].plot(np.array(loss)-loss_star, '--bo', mfc='r', mec='none', markersize=5)\n",
        "  ax[0][1].set_title(r'$Loss(\\mathbf{w}) - Loss(\\mathbf{w}^*)$ vs #epochs')\n",
        "  ax[0][1].set_xlabel(\"No. of epochs (e)\")\n",
        "  ax[0][1].set_ylabel(r\"$J(\\mathbf{w}) - J(\\mathbf{w}^*)$ (log-scale)\")\n",
        "  ax[0][1].set_yscale('log')\n",
        "  ax[0][1].grid()\n",
        "\n",
        "\n",
        "  # J(w) vs ||w||\n",
        "  # --------------------------------------------------------------------------------------------\n",
        "  ax[1][0].plot(np.linalg.norm(iterates, axis = 1), np.array(loss), '--bo', mfc='r', mec='none', markersize=5)\n",
        "  ax[1][0].set_title(r'Loss vs $||\\mathbf{w}||$')\n",
        "  ax[1][0].set_xlabel(r\"$||\\mathbf{w}||$\")\n",
        "  ax[1][0].set_ylabel(r\"$J$ (log-scale)\")\n",
        "  ax[1][0].grid()\n",
        "\n",
        "\n",
        "  # || w - w^*|| vs ephochs\n",
        "  # --------------------------------------------------------------------------------------------\n",
        "  ax[1][1].plot(np.linalg.norm(np.array(iterates)-w_star, axis = 1), '--bo', mfc='r', mec='none', markersize=5)\n",
        "  ax[1][1].set_title(r'Pointwise Convergence')\n",
        "  ax[1][1].set_xlabel(r\"epochs\")\n",
        "  ax[1][1].set_ylabel(r\"$||\\mathbf{w} - \\mathbf{w}^*||$\")\n",
        "  ax[1][1].grid()\n",
        "\n",
        "\n",
        "  plt.tight_layout()\n",
        "  plt.show()"
      ],
      "metadata": {
        "id": "NeEgmIhZluIq"
      },
      "execution_count": null,
      "outputs": []
    },
    {
      "cell_type": "markdown",
      "source": [
        "## The Performance of the lr\n",
        "### In this section, we’ll train and make predictions with our custom logistic regression model. First, let’s identify a baseline for our model."
      ],
      "metadata": {
        "id": "N1vEPwoyl8JD"
      }
    },
    {
      "cell_type": "code",
      "source": [
        "y_train.value_counts(normalize='True')\n",
        "\n",
        "y_test.value_counts(normalize='True')"
      ],
      "metadata": {
        "id": "3IhMFAmal7r7",
        "colab": {
          "base_uri": "https://localhost:8080/"
        },
        "outputId": "aac756ec-9c10-4ad7-9e55-076c78669b52"
      },
      "execution_count": null,
      "outputs": [
        {
          "output_type": "execute_result",
          "data": {
            "text/plain": [
              "1    0.608392\n",
              "0    0.391608\n",
              "Name: diagnosis, dtype: float64"
            ]
          },
          "metadata": {},
          "execution_count": 11
        }
      ]
    },
    {
      "cell_type": "markdown",
      "source": [
        "##### If we predict 1 for all the entries in the train and test set, we get an accuracy of 63% and 61%, respectively. Thus, 63% is the baseline for our train set. It is 61% for the test set. We expect our custom model to outperform the baseline.\n",
        "\n",
        "## Scale Features"
      ],
      "metadata": {
        "id": "Bd1JYldlnNOo"
      }
    },
    {
      "cell_type": "code",
      "source": [
        "X_train.describe()\n",
        "\n",
        "X_train.info()"
      ],
      "metadata": {
        "id": "GK4u2F0xnI5C",
        "colab": {
          "base_uri": "https://localhost:8080/"
        },
        "outputId": "829484bb-39de-4470-9196-127f5c1edc01"
      },
      "execution_count": null,
      "outputs": [
        {
          "output_type": "stream",
          "name": "stdout",
          "text": [
            "<class 'pandas.core.frame.DataFrame'>\n",
            "Int64Index: 426 entries, 102 to 135\n",
            "Data columns (total 30 columns):\n",
            " #   Column                   Non-Null Count  Dtype  \n",
            "---  ------                   --------------  -----  \n",
            " 0   mean radius              426 non-null    float64\n",
            " 1   mean texture             426 non-null    float64\n",
            " 2   mean perimeter           426 non-null    float64\n",
            " 3   mean area                426 non-null    float64\n",
            " 4   mean smoothness          426 non-null    float64\n",
            " 5   mean compactness         426 non-null    float64\n",
            " 6   mean concavity           426 non-null    float64\n",
            " 7   mean concave points      426 non-null    float64\n",
            " 8   mean symmetry            426 non-null    float64\n",
            " 9   mean fractal dimension   426 non-null    float64\n",
            " 10  radius error             426 non-null    float64\n",
            " 11  texture error            426 non-null    float64\n",
            " 12  perimeter error          426 non-null    float64\n",
            " 13  area error               426 non-null    float64\n",
            " 14  smoothness error         426 non-null    float64\n",
            " 15  compactness error        426 non-null    float64\n",
            " 16  concavity error          426 non-null    float64\n",
            " 17  concave points error     426 non-null    float64\n",
            " 18  symmetry error           426 non-null    float64\n",
            " 19  fractal dimension error  426 non-null    float64\n",
            " 20  worst radius             426 non-null    float64\n",
            " 21  worst texture            426 non-null    float64\n",
            " 22  worst perimeter          426 non-null    float64\n",
            " 23  worst area               426 non-null    float64\n",
            " 24  worst smoothness         426 non-null    float64\n",
            " 25  worst compactness        426 non-null    float64\n",
            " 26  worst concavity          426 non-null    float64\n",
            " 27  worst concave points     426 non-null    float64\n",
            " 28  worst symmetry           426 non-null    float64\n",
            " 29  worst fractal dimension  426 non-null    float64\n",
            "dtypes: float64(30)\n",
            "memory usage: 103.2 KB\n"
          ]
        }
      ]
    },
    {
      "cell_type": "markdown",
      "source": [
        "##### The `describe()` and `info()` methods tell us that the features in our data are continuous variables on different scales. Before training, we’ll first scale the features with the `StandardScaler()` function. We don’t want to do this manually, so we’ll connect the scaling and fitting using a Pipeline:"
      ],
      "metadata": {
        "id": "xwolP9SRnfwj"
      }
    },
    {
      "cell_type": "code",
      "source": [
        "pipe0 = Pipeline([\n",
        "    ('scaler', StandardScaler()),\n",
        "    ('lr', regularizedLR(learning_rate=1e+2, n_epochs=1000, cutoff=0.5))\n",
        "])"
      ],
      "metadata": {
        "id": "X-cAvoaOna_I"
      },
      "execution_count": null,
      "outputs": []
    },
    {
      "cell_type": "markdown",
      "source": [
        "## Train the model"
      ],
      "metadata": {
        "id": "xcsamvkfnrtH"
      }
    },
    {
      "cell_type": "code",
      "source": [
        "pipe0.fit(X_train, y_train)"
      ],
      "metadata": {
        "id": "Le_MsAwGnoh_",
        "colab": {
          "base_uri": "https://localhost:8080/",
          "height": 292
        },
        "outputId": "c65220f7-751f-4048-9bbe-a6b384b56f59"
      },
      "execution_count": null,
      "outputs": [
        {
          "output_type": "error",
          "ename": "NameError",
          "evalue": "ignored",
          "traceback": [
            "\u001b[0;31m---------------------------------------------------------------------------\u001b[0m",
            "\u001b[0;31mNameError\u001b[0m                                 Traceback (most recent call last)",
            "\u001b[0;32m<ipython-input-14-4098380b8063>\u001b[0m in \u001b[0;36m<cell line: 1>\u001b[0;34m()\u001b[0m\n\u001b[0;32m----> 1\u001b[0;31m \u001b[0mpipe0\u001b[0m\u001b[0;34m.\u001b[0m\u001b[0mfit\u001b[0m\u001b[0;34m(\u001b[0m\u001b[0mX_train\u001b[0m\u001b[0;34m,\u001b[0m \u001b[0my_train\u001b[0m\u001b[0;34m)\u001b[0m\u001b[0;34m\u001b[0m\u001b[0;34m\u001b[0m\u001b[0m\n\u001b[0m",
            "\u001b[0;32m/usr/local/lib/python3.10/dist-packages/sklearn/pipeline.py\u001b[0m in \u001b[0;36mfit\u001b[0;34m(self, X, y, **fit_params)\u001b[0m\n\u001b[1;32m    403\u001b[0m             \u001b[0;32mif\u001b[0m \u001b[0mself\u001b[0m\u001b[0;34m.\u001b[0m\u001b[0m_final_estimator\u001b[0m \u001b[0;34m!=\u001b[0m \u001b[0;34m\"passthrough\"\u001b[0m\u001b[0;34m:\u001b[0m\u001b[0;34m\u001b[0m\u001b[0;34m\u001b[0m\u001b[0m\n\u001b[1;32m    404\u001b[0m                 \u001b[0mfit_params_last_step\u001b[0m \u001b[0;34m=\u001b[0m \u001b[0mfit_params_steps\u001b[0m\u001b[0;34m[\u001b[0m\u001b[0mself\u001b[0m\u001b[0;34m.\u001b[0m\u001b[0msteps\u001b[0m\u001b[0;34m[\u001b[0m\u001b[0;34m-\u001b[0m\u001b[0;36m1\u001b[0m\u001b[0;34m]\u001b[0m\u001b[0;34m[\u001b[0m\u001b[0;36m0\u001b[0m\u001b[0;34m]\u001b[0m\u001b[0;34m]\u001b[0m\u001b[0;34m\u001b[0m\u001b[0;34m\u001b[0m\u001b[0m\n\u001b[0;32m--> 405\u001b[0;31m                 \u001b[0mself\u001b[0m\u001b[0;34m.\u001b[0m\u001b[0m_final_estimator\u001b[0m\u001b[0;34m.\u001b[0m\u001b[0mfit\u001b[0m\u001b[0;34m(\u001b[0m\u001b[0mXt\u001b[0m\u001b[0;34m,\u001b[0m \u001b[0my\u001b[0m\u001b[0;34m,\u001b[0m \u001b[0;34m**\u001b[0m\u001b[0mfit_params_last_step\u001b[0m\u001b[0;34m)\u001b[0m\u001b[0;34m\u001b[0m\u001b[0;34m\u001b[0m\u001b[0m\n\u001b[0m\u001b[1;32m    406\u001b[0m \u001b[0;34m\u001b[0m\u001b[0m\n\u001b[1;32m    407\u001b[0m         \u001b[0;32mreturn\u001b[0m \u001b[0mself\u001b[0m\u001b[0;34m\u001b[0m\u001b[0;34m\u001b[0m\u001b[0m\n",
            "\u001b[0;32m<ipython-input-1-003472f9318f>\u001b[0m in \u001b[0;36mfit\u001b[0;34m(self, X, y)\u001b[0m\n\u001b[1;32m    170\u001b[0m             \u001b[0mloss\u001b[0m \u001b[0;34m=\u001b[0m \u001b[0;34m...\u001b[0m\u001b[0;34m\u001b[0m\u001b[0;34m\u001b[0m\u001b[0m\n\u001b[1;32m    171\u001b[0m             '''\n\u001b[0;32m--> 172\u001b[0;31m             \u001b[0mlosses\u001b[0m\u001b[0;34m.\u001b[0m\u001b[0mappend\u001b[0m\u001b[0;34m(\u001b[0m\u001b[0mloss\u001b[0m\u001b[0;34m)\u001b[0m\u001b[0;34m\u001b[0m\u001b[0;34m\u001b[0m\u001b[0m\n\u001b[0m",
            "\u001b[0;31mNameError\u001b[0m: name 'loss' is not defined"
          ]
        }
      ]
    },
    {
      "cell_type": "markdown",
      "source": [
        "\n",
        "\n",
        "```\n",
        "# This is formatted as code\n",
        "```\n",
        "\n",
        "## Visualizing the results"
      ],
      "metadata": {
        "id": "l6lnKyE9GsTR"
      }
    },
    {
      "cell_type": "code",
      "source": [
        "visualize(StandardScaler().fit_transform(X_train), y_train, np.array(iterates), iterates[-1], losses, lr, beta_1=1, beta_2=0)"
      ],
      "metadata": {
        "id": "T2VHk0Y59xLQ"
      },
      "execution_count": null,
      "outputs": []
    },
    {
      "cell_type": "markdown",
      "source": [
        "## Get the accuracies of the train and test set\n",
        "### Check if they beat the baseline model"
      ],
      "metadata": {
        "id": "Qp7Ku-ncnwHJ"
      }
    },
    {
      "cell_type": "code",
      "source": [
        "accuracies = {\n",
        "    'train accuracy': pipe0.score(X_train, y_train),\n",
        "    'test accuracy': pipe0.score(X_test, y_test)\n",
        "}\n",
        "\n",
        "print(*accuracies.items())"
      ],
      "metadata": {
        "id": "4RCEgiXznt9z"
      },
      "execution_count": null,
      "outputs": []
    },
    {
      "cell_type": "markdown",
      "source": [
        "#### Check other classification metrics for test set\n"
      ],
      "metadata": {
        "id": "VnMY36D7n3Hm"
      }
    },
    {
      "cell_type": "code",
      "source": [
        "print(classification_report(y_test, pipe0.predict(X_test)))"
      ],
      "metadata": {
        "id": "KXObJQ7Ln0_B",
        "colab": {
          "base_uri": "https://localhost:8080/"
        },
        "outputId": "166ea265-e495-4db1-d642-0181bf1851c1"
      },
      "execution_count": null,
      "outputs": [
        {
          "output_type": "stream",
          "name": "stdout",
          "text": [
            "              precision    recall  f1-score   support\n",
            "\n",
            "           0       0.51      0.66      0.57        56\n",
            "           1       0.73      0.59      0.65        87\n",
            "\n",
            "    accuracy                           0.62       143\n",
            "   macro avg       0.62      0.62      0.61       143\n",
            "weighted avg       0.64      0.62      0.62       143\n",
            "\n"
          ]
        }
      ]
    },
    {
      "cell_type": "markdown",
      "source": [
        "### Check other classification metrics for train set"
      ],
      "metadata": {
        "id": "iJvpG21in8gn"
      }
    },
    {
      "cell_type": "code",
      "source": [
        "print(classification_report(y_train, pipe0.predict(X_train)))"
      ],
      "metadata": {
        "id": "Q3BUNID8n5xS",
        "colab": {
          "base_uri": "https://localhost:8080/"
        },
        "outputId": "2d44f9bc-4c73-4741-b8d6-a2a4030539cd"
      },
      "execution_count": null,
      "outputs": [
        {
          "output_type": "stream",
          "name": "stdout",
          "text": [
            "              precision    recall  f1-score   support\n",
            "\n",
            "           0       0.50      0.67      0.58       156\n",
            "           1       0.76      0.61      0.68       270\n",
            "\n",
            "    accuracy                           0.64       426\n",
            "   macro avg       0.63      0.64      0.63       426\n",
            "weighted avg       0.67      0.64      0.64       426\n",
            "\n"
          ]
        }
      ]
    },
    {
      "cell_type": "markdown",
      "source": [
        "##### Our custom lr model outperformed the baseline on the train and test sets. This is so cool!\n",
        "\n",
        "Next, let’s investigate whether the cutoff value significantly affects prediction accuracies."
      ],
      "metadata": {
        "id": "mjSoOUuToDOT"
      }
    },
    {
      "cell_type": "markdown",
      "source": [
        "## Predict with the lr\n",
        "\n",
        "We will make predictions with `pipe0` in this section. Then we’ll plot the predicted probabilities using a cutoff of $0.5$. Points above the cutoff belong in one class, and points below the cutoff belong in a separate class."
      ],
      "metadata": {
        "id": "_03ua4pfoG7z"
      }
    },
    {
      "cell_type": "code",
      "source": [
        "import matplotlib\n",
        "matplotlib.rcParams['font.family'] = 'monospace'"
      ],
      "metadata": {
        "id": "BMTtpPNKn-u9"
      },
      "execution_count": null,
      "outputs": []
    },
    {
      "cell_type": "markdown",
      "source": [
        "#### Predict with `pipe0`"
      ],
      "metadata": {
        "id": "uyTQrYxPoiA2"
      }
    },
    {
      "cell_type": "code",
      "source": [
        "predictions = pipe0.predict(X_test)\n",
        "predict_probas = pipe0['lr'].predict_probas\n",
        "cutoff = pipe0['lr'].cutoff"
      ],
      "metadata": {
        "id": "N_xgPmRVof6c"
      },
      "execution_count": null,
      "outputs": []
    },
    {
      "cell_type": "markdown",
      "source": [
        "#### Plot predicted probabilities"
      ],
      "metadata": {
        "id": "-e4H0LW0opYc"
      }
    },
    {
      "cell_type": "code",
      "source": [
        "fig = plt.figure(figsize=(15, 5), constrained_layout=True)\n",
        "x = range(1, len(predict_probas) + 1)\n",
        "plt.scatter(x, predict_probas, c=predictions, label='predicted probabilities')\n",
        "plt.plot(x, [cutoff] * len(predictions), color='red', label='cutoff=0.5')\n",
        "\n",
        "plt.ylabel('Predicted probabilites', fontsize=12)\n",
        "plt.xlabel('test data', fontsize=12)\n",
        "plt.legend(loc=7);"
      ],
      "metadata": {
        "id": "DmI56bO9oo1C",
        "colab": {
          "base_uri": "https://localhost:8080/",
          "height": 462
        },
        "outputId": "b1fabf36-cfaf-4efe-b218-a07a605b519b"
      },
      "execution_count": null,
      "outputs": [
        {
          "output_type": "display_data",
          "data": {
            "text/plain": [
              "<Figure size 1500x500 with 1 Axes>"
            ],
            "image/png": "[encoded data removed]"
          },
          "metadata": {}
        }
      ]
    },
    {
      "cell_type": "markdown",
      "source": [
        "#### Recall the accuracy values using `pipe0`"
      ],
      "metadata": {
        "id": "7aW0eCShovZ5"
      }
    },
    {
      "cell_type": "code",
      "source": [
        "print(*accuracies.items())"
      ],
      "metadata": {
        "id": "uYxqaVtoolxj",
        "colab": {
          "base_uri": "https://localhost:8080/",
          "height": 179
        },
        "outputId": "216f23e6-5c4d-4003-9755-e5b168c2f3d5"
      },
      "execution_count": null,
      "outputs": [
        {
          "output_type": "error",
          "ename": "NameError",
          "evalue": "ignored",
          "traceback": [
            "\u001b[0;31m---------------------------------------------------------------------------\u001b[0m",
            "\u001b[0;31mNameError\u001b[0m                                 Traceback (most recent call last)",
            "\u001b[0;32m<ipython-input-20-18601c0aa0a7>\u001b[0m in \u001b[0;36m<cell line: 1>\u001b[0;34m()\u001b[0m\n\u001b[0;32m----> 1\u001b[0;31m \u001b[0mprint\u001b[0m\u001b[0;34m(\u001b[0m\u001b[0;34m*\u001b[0m\u001b[0maccuracies\u001b[0m\u001b[0;34m.\u001b[0m\u001b[0mitems\u001b[0m\u001b[0;34m(\u001b[0m\u001b[0;34m)\u001b[0m\u001b[0;34m)\u001b[0m\u001b[0;34m\u001b[0m\u001b[0;34m\u001b[0m\u001b[0m\n\u001b[0m",
            "\u001b[0;31mNameError\u001b[0m: name 'accuracies' is not defined"
          ]
        }
      ]
    },
    {
      "cell_type": "markdown",
      "source": [
        "##### We can see from the above plots that there are values close to the cutoff point. Let’s assume that these values were among the mis-classified. Let’s reduce the cutoff value to $0.35$ and observe for improvement:\n",
        "\n",
        "create a new instance, `pipe1`, with a cutoff value of $0.35$"
      ],
      "metadata": {
        "id": "NCFu7Zoqo2pq"
      }
    },
    {
      "cell_type": "code",
      "source": [
        "pipe1 = Pipeline([\n",
        "    ('scaler', StandardScaler()),\n",
        "    ('lr', regularizedLR(learning_rate=1e-2, n_epochs=1000, cutoff=0.35))\n",
        "])"
      ],
      "metadata": {
        "id": "o7WVc9FBoylW"
      },
      "execution_count": null,
      "outputs": []
    },
    {
      "cell_type": "code",
      "source": [
        "pipe1.fit(X_train, y_train)"
      ],
      "metadata": {
        "id": "-TTg95d3o-Dj",
        "colab": {
          "base_uri": "https://localhost:8080/",
          "height": 179
        },
        "outputId": "af340577-f491-4fa2-c260-ae8a862f750b"
      },
      "execution_count": null,
      "outputs": [
        {
          "output_type": "error",
          "ename": "NameError",
          "evalue": "ignored",
          "traceback": [
            "\u001b[0;31m---------------------------------------------------------------------------\u001b[0m",
            "\u001b[0;31mNameError\u001b[0m                                 Traceback (most recent call last)",
            "\u001b[0;32m<ipython-input-21-9f6a1354ee98>\u001b[0m in \u001b[0;36m<cell line: 1>\u001b[0;34m()\u001b[0m\n\u001b[0;32m----> 1\u001b[0;31m \u001b[0mpipe1\u001b[0m\u001b[0;34m.\u001b[0m\u001b[0mfit\u001b[0m\u001b[0;34m(\u001b[0m\u001b[0mX_train\u001b[0m\u001b[0;34m,\u001b[0m \u001b[0my_train\u001b[0m\u001b[0;34m)\u001b[0m\u001b[0;34m\u001b[0m\u001b[0;34m\u001b[0m\u001b[0m\n\u001b[0m",
            "\u001b[0;31mNameError\u001b[0m: name 'pipe1' is not defined"
          ]
        }
      ]
    },
    {
      "cell_type": "code",
      "source": [
        "predictions = pipe1.predict(X_test)\n",
        "predict_probas = pipe1['lr'].predict_probas\n",
        "cutoff = pipe1['lr'].cutoff"
      ],
      "metadata": {
        "id": "b1r-RZMqpBHh",
        "outputId": "b79b5aa0-e66b-4a9b-bf2e-5fd64b8501f8",
        "colab": {
          "base_uri": "https://localhost:8080/",
          "height": 214
        }
      },
      "execution_count": null,
      "outputs": [
        {
          "output_type": "error",
          "ename": "NameError",
          "evalue": "ignored",
          "traceback": [
            "\u001b[0;31m---------------------------------------------------------------------------\u001b[0m",
            "\u001b[0;31mNameError\u001b[0m                                 Traceback (most recent call last)",
            "\u001b[0;32m<ipython-input-22-ed730b7b5d64>\u001b[0m in \u001b[0;36m<cell line: 1>\u001b[0;34m()\u001b[0m\n\u001b[0;32m----> 1\u001b[0;31m \u001b[0mpredictions\u001b[0m \u001b[0;34m=\u001b[0m \u001b[0mpipe1\u001b[0m\u001b[0;34m.\u001b[0m\u001b[0mpredict\u001b[0m\u001b[0;34m(\u001b[0m\u001b[0mX_test\u001b[0m\u001b[0;34m)\u001b[0m\u001b[0;34m\u001b[0m\u001b[0;34m\u001b[0m\u001b[0m\n\u001b[0m\u001b[1;32m      2\u001b[0m \u001b[0mpredict_probas\u001b[0m \u001b[0;34m=\u001b[0m \u001b[0mpipe1\u001b[0m\u001b[0;34m[\u001b[0m\u001b[0;34m'lr'\u001b[0m\u001b[0;34m]\u001b[0m\u001b[0;34m.\u001b[0m\u001b[0mpredict_probas\u001b[0m\u001b[0;34m\u001b[0m\u001b[0;34m\u001b[0m\u001b[0m\n\u001b[1;32m      3\u001b[0m \u001b[0mcutoff\u001b[0m \u001b[0;34m=\u001b[0m \u001b[0mpipe1\u001b[0m\u001b[0;34m[\u001b[0m\u001b[0;34m'lr'\u001b[0m\u001b[0;34m]\u001b[0m\u001b[0;34m.\u001b[0m\u001b[0mcutoff\u001b[0m\u001b[0;34m\u001b[0m\u001b[0;34m\u001b[0m\u001b[0m\n",
            "\u001b[0;31mNameError\u001b[0m: name 'pipe1' is not defined"
          ]
        }
      ]
    },
    {
      "cell_type": "code",
      "source": [
        "fig = plt.figure(figsize=(15, 5), constrained_layout=True)\n",
        "x = range(1, len(predict_probas) + 1)\n",
        "plt.scatter(x, predict_probas, c=predictions, label='predicted probabilities')\n",
        "plt.plot(x, [cutoff] * len(predictions), color='red', label='cutoff=0.35')\n",
        "\n",
        "plt.ylabel('Predicted probabilites', fontsize=12)\n",
        "plt.xlabel('test data', fontsize=12)\n",
        "plt.legend(loc=5);"
      ],
      "metadata": {
        "id": "4vDgfe9bpCjB",
        "colab": {
          "base_uri": "https://localhost:8080/",
          "height": 462
        },
        "outputId": "222c4984-c833-4d4c-a878-170c8b70f3c7"
      },
      "execution_count": null,
      "outputs": [
        {
          "output_type": "display_data",
          "data": {
            "text/plain": [
              "<Figure size 1500x500 with 1 Axes>"
            ],
            "image/png": "[encoded data removed]"
          },
          "metadata": {}
        }
      ]
    },
    {
      "cell_type": "code",
      "source": [
        "accuracies1 = {\n",
        "    'train accuracy': pipe1.score(X_train, y_train),\n",
        "    'test accuracy': pipe1.score(X_test, y_test)\n",
        "}\n",
        "\n",
        "print(*accuracies1.items())"
      ],
      "metadata": {
        "id": "M1GN1Vx4pD-A",
        "colab": {
          "base_uri": "https://localhost:8080/",
          "height": 250
        },
        "outputId": "9e339821-62b2-4a8a-c8c2-75713d3daed3"
      },
      "execution_count": null,
      "outputs": [
        {
          "output_type": "error",
          "ename": "NameError",
          "evalue": "ignored",
          "traceback": [
            "\u001b[0;31m---------------------------------------------------------------------------\u001b[0m",
            "\u001b[0;31mNameError\u001b[0m                                 Traceback (most recent call last)",
            "\u001b[0;32m<ipython-input-24-1217a1ba210b>\u001b[0m in \u001b[0;36m<cell line: 2>\u001b[0;34m()\u001b[0m\n\u001b[1;32m      1\u001b[0m accuracies1 = {\n\u001b[0;32m----> 2\u001b[0;31m     \u001b[0;34m'train accuracy'\u001b[0m\u001b[0;34m:\u001b[0m \u001b[0mpipe1\u001b[0m\u001b[0;34m.\u001b[0m\u001b[0mscore\u001b[0m\u001b[0;34m(\u001b[0m\u001b[0mX_train\u001b[0m\u001b[0;34m,\u001b[0m \u001b[0my_train\u001b[0m\u001b[0;34m)\u001b[0m\u001b[0;34m,\u001b[0m\u001b[0;34m\u001b[0m\u001b[0;34m\u001b[0m\u001b[0m\n\u001b[0m\u001b[1;32m      3\u001b[0m     \u001b[0;34m'test accuracy'\u001b[0m\u001b[0;34m:\u001b[0m \u001b[0mpipe1\u001b[0m\u001b[0;34m.\u001b[0m\u001b[0mscore\u001b[0m\u001b[0;34m(\u001b[0m\u001b[0mX_test\u001b[0m\u001b[0;34m,\u001b[0m \u001b[0my_test\u001b[0m\u001b[0;34m)\u001b[0m\u001b[0;34m\u001b[0m\u001b[0;34m\u001b[0m\u001b[0m\n\u001b[1;32m      4\u001b[0m }\n\u001b[1;32m      5\u001b[0m \u001b[0;34m\u001b[0m\u001b[0m\n",
            "\u001b[0;31mNameError\u001b[0m: name 'pipe1' is not defined"
          ]
        }
      ]
    },
    {
      "cell_type": "markdown",
      "source": [
        "##### Although our accuracies did not improve, we’ve learned that we can either increase or decrease our cutoff value from the default, depending on the type of problem we are faced with.\n",
        "\n",
        "Our custom logistic regression model did not perform badly."
      ],
      "metadata": {
        "id": "8roFvG0ZpM3h"
      }
    },
    {
      "cell_type": "code",
      "source": [],
      "metadata": {
        "id": "A7KJP9matOyq"
      },
      "execution_count": null,
      "outputs": []
    }
  ]
}